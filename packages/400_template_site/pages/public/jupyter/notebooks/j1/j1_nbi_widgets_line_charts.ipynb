{
 "cells": [
  {
   "cell_type": "code",
   "execution_count": 1,
   "metadata": {},
   "outputs": [],
   "source": [
    "import matplotlib.pyplot as plt\n",
    "import ipywidgets as widgets\n",
    "from ipywidgets import interact\n",
    "import nbinteract as nbi\n",
    "import numpy as np\n",
    "from numpy import arange,sin,pi"
   ]
  },
  {
   "cell_type": "markdown",
   "metadata": {},
   "source": [
    "### `nbinteract.line`\n",
    "\n",
    "The line widget generates a line plot that allows interaction with the parameters to the response functions.\n",
    "\n",
    "The first two arguments of line are response functions that return the x and y-axis coordinates, respectively. Either argument can be arrays themselves. Arguments for the response functions must be passed in as keyword arguments to line in the format expected by interact. The response function for the y-coordinates will be called with the x-coordinates as its first argument."
   ]
  },
  {
   "cell_type": "code",
   "execution_count": 2,
   "metadata": {},
   "outputs": [
    {
     "data": {
      "application/vnd.jupyter.widget-view+json": {
       "model_id": "52b8b5636a9841a39962b2a08110b92a",
       "version_major": 2,
       "version_minor": 0
      },
      "text/plain": [
       "VBox(children=(interactive(children=(IntSlider(value=30, description='max', max=50, min=10), IntSlider(value=5…"
      ]
     },
     "metadata": {},
     "output_type": "display_data"
    }
   ],
   "source": [
    "def x_values(max): return np.arange(0, max + 1)\n",
    "def y_values(xs, sd):\n",
    "    return xs + np.random.normal(0, scale=sd, size=len(xs))\n",
    "\n",
    "\n",
    "options = {\n",
    "    'xlim': (0, 50),\n",
    "    'ylim': (0, 55),\n",
    "    'animation_duration': 250,\n",
    "}\n",
    "\n",
    "layouts = {\n",
    "    'plot_height': '480px',\n",
    "    'plot_width': '800px',\n",
    "}\n",
    "\n",
    "line_chart = nbi.line(\n",
    "    x_values,\n",
    "    y_values,\n",
    "    max=(10, 50),\n",
    "    sd=(1, 10),\n",
    "    options=options,\n",
    "    layouts=layouts\n",
    ")\n",
    "\n",
    "line_chart"
   ]
  }
 ],
 "metadata": {
  "kernelspec": {
   "display_name": "Python 3 (ipykernel)",
   "language": "python",
   "name": "python3"
  },
  "language_info": {
   "codemirror_mode": {
    "name": "ipython",
    "version": 3
   },
   "file_extension": ".py",
   "mimetype": "text/x-python",
   "name": "python",
   "nbconvert_exporter": "python",
   "pygments_lexer": "ipython3",
   "version": "3.7.9"
  }
 },
 "nbformat": 4,
 "nbformat_minor": 4
}
