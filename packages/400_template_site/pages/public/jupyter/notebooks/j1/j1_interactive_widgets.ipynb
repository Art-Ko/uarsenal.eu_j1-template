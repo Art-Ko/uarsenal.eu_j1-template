{
 "cells": [
  {
   "cell_type": "code",
   "execution_count": 146,
   "metadata": {},
   "outputs": [],
   "source": [
    "import matplotlib.pyplot as plt\n",
    "import matplotlib.gridspec as gridspec\n",
    "import ipywidgets as widgets\n",
    "from ipywidgets import interact, Layout, IntSlider, FloatSlider\n",
    "import numpy as np\n",
    "from numpy import arange,sin,pi"
   ]
  },
  {
   "cell_type": "markdown",
   "metadata": {},
   "source": [
    "### Base IntSlider"
   ]
  },
  {
   "cell_type": "code",
   "execution_count": 147,
   "metadata": {},
   "outputs": [
    {
     "data": {
      "application/vnd.jupyter.widget-view+json": {
       "model_id": "6e59602bd5694bd4a116b32e0634b9bb",
       "version_major": 2,
       "version_minor": 0
      },
      "text/plain": [
       "interactive(children=(IntSlider(value=5, description='x-value:', layout=Layout(width='90%'), max=10), Output()…"
      ]
     },
     "metadata": {},
     "output_type": "display_data"
    }
   ],
   "source": [
    "# Define the square function\n",
    "#\n",
    "def square(x):\n",
    "    return x * x\n",
    "\n",
    "# Simple interact widget from ipywidgets\n",
    "#\n",
    "interact = interact(\n",
    "    square,\n",
    "    x=IntSlider(\n",
    "        value=5,\n",
    "        min=0,\n",
    "        max=10,\n",
    "        step=1,\n",
    "        description='x-value:',\n",
    "        layout=Layout(width='90%')\n",
    "    )\n",
    ")\n",
    "\n",
    "interact;"
   ]
  },
  {
   "cell_type": "markdown",
   "metadata": {},
   "source": [
    "### FloatSlider for widget control"
   ]
  },
  {
   "cell_type": "code",
   "execution_count": 157,
   "metadata": {},
   "outputs": [
    {
     "data": {
      "application/vnd.jupyter.widget-view+json": {
       "model_id": "2e1e3b0394764d76bad988e7c4062386",
       "version_major": 2,
       "version_minor": 0
      },
      "text/plain": [
       "interactive(children=(FloatSlider(value=3.141592653589793, description='Slider (x):', layout=Layout(width='90%…"
      ]
     },
     "metadata": {},
     "output_type": "display_data"
    }
   ],
   "source": [
    "# Define the plot function  \n",
    "#\n",
    "def myplot(xv): \n",
    "    x = arange(0, xv, 0.01)\n",
    "    y = sin(pi*x)\n",
    "    \n",
    "    # figsize: width, height in inches\n",
    "    plt.figure(figsize=(10, 5))\n",
    "\n",
    "    # set the grid lines\n",
    "    plt.grid(axis='x', color='#E0E0E0', linestyle='--', linewidth=2),\n",
    "    plt.grid(axis='y', color='#E0E0E0', linestyle='-', linewidth=2),\n",
    "    \n",
    "    # set the axis labels\n",
    "    plt.xlabel('x-values'),\n",
    "    plt.ylabel('y-values'),\n",
    "    \n",
    "    # set the plot title\n",
    "    plt.title('Simple plot function based on sin(x)'),\n",
    "\n",
    "    # define the plot\n",
    "    plt.plot(x, y)\n",
    "\n",
    "\n",
    "# Create an interactive widget for the plot using interact\n",
    "#\n",
    "interact = widgets.interact(\n",
    "    myplot,\n",
    "    xv = widgets.FloatSlider(\n",
    "        value=pi,\n",
    "        min=(pi/2),\n",
    "        max=(4*pi),\n",
    "        step=0.01,\n",
    "        description='Slider (x):',\n",
    "        layout=Layout(width='90%')\n",
    "    )\n",
    ")\n",
    "\n",
    "interact;"
   ]
  },
  {
   "cell_type": "markdown",
   "metadata": {},
   "source": [
    "### Select box"
   ]
  },
  {
   "cell_type": "code",
   "execution_count": 149,
   "metadata": {},
   "outputs": [
    {
     "data": {
      "application/vnd.jupyter.widget-view+json": {
       "model_id": "f2e8c94e593a4eaabb0f52f285e174d7",
       "version_major": 2,
       "version_minor": 0
      },
      "text/plain": [
       "interactive(children=(Dropdown(description='name', options=('Jim', 'Emma', 'Bond'), value='Jim'), Output()), _…"
      ]
     },
     "metadata": {},
     "output_type": "display_data"
    }
   ],
   "source": [
    "def say_my_name(name):\n",
    "    \"\"\"\n",
    "    Print the current widget value in short sentence\n",
    "    \"\"\"\n",
    "    print(f'My name is {name}')\n",
    "\n",
    "\n",
    "widgets.interact(\n",
    "    say_my_name,\n",
    "    name=[\"Jim\", \"Emma\", \"Bond\"]\n",
    ");"
   ]
  },
  {
   "cell_type": "markdown",
   "metadata": {},
   "source": [
    "### Combined widgets"
   ]
  },
  {
   "cell_type": "code",
   "execution_count": 150,
   "metadata": {},
   "outputs": [
    {
     "data": {
      "application/vnd.jupyter.widget-view+json": {
       "model_id": "1fedf8e43fd84538be8a38dcae4641b9",
       "version_major": 2,
       "version_minor": 0
      },
      "text/plain": [
       "interactive(children=(Dropdown(description='x', options=(0, 1, 2, 3), value=0), Output()), _dom_classes=('widg…"
      ]
     },
     "metadata": {},
     "output_type": "display_data"
    },
    {
     "data": {
      "application/vnd.jupyter.widget-view+json": {
       "model_id": "3eaa9e7d914149feb74e375ee2af6804",
       "version_major": 2,
       "version_minor": 0
      },
      "text/plain": [
       "interactive(children=(IntSlider(value=5, description='x', max=10), Output()), _dom_classes=('widget-interact',…"
      ]
     },
     "metadata": {},
     "output_type": "display_data"
    },
    {
     "data": {
      "application/vnd.jupyter.widget-view+json": {
       "model_id": "70d1060dfc3c4db89e01f537b0061027",
       "version_major": 2,
       "version_minor": 0
      },
      "text/plain": [
       "interactive(children=(FloatSlider(value=5.0, description='x', max=10.0, step=0.5), Output()), _dom_classes=('w…"
      ]
     },
     "metadata": {},
     "output_type": "display_data"
    },
    {
     "data": {
      "application/vnd.jupyter.widget-view+json": {
       "model_id": "747a7056dea44d7e90e65ea578862005",
       "version_major": 2,
       "version_minor": 0
      },
      "text/plain": [
       "interactive(children=(Checkbox(value=True, description='x'), Output()), _dom_classes=('widget-interact',))"
      ]
     },
     "metadata": {},
     "output_type": "display_data"
    }
   ],
   "source": [
    "def say_something(x):\n",
    "    \"\"\"\n",
    "    Print the current widget value in short sentence\n",
    "    \"\"\"\n",
    "    print(f'Widget says: {x}')\n",
    "\n",
    "\n",
    "widgets.interact(say_something, x=[0, 1, 2, 3])\n",
    "widgets.interact(say_something, x=(0, 10, 1))\n",
    "widgets.interact(say_something, x=(0, 10, .5))\n",
    "\n",
    "# the variable '_' (underscore) returns the output\n",
    "# of the latest code execution\n",
    "#\n",
    "_ = widgets.interact(say_something, x=True)"
   ]
  },
  {
   "cell_type": "markdown",
   "metadata": {},
   "source": [
    "### Complex widget configs"
   ]
  },
  {
   "cell_type": "code",
   "execution_count": 151,
   "metadata": {},
   "outputs": [
    {
     "data": {
      "application/vnd.jupyter.widget-view+json": {
       "model_id": "3b8f5352180e41a58f24a02d5daf0940",
       "version_major": 2,
       "version_minor": 0
      },
      "text/plain": [
       "VBox(children=(IntSlider(value=5, description='Slider', layout=Layout(width='90%'), max=10), IntRangeSlider(va…"
      ]
     },
     "metadata": {},
     "output_type": "display_data"
    }
   ],
   "source": [
    "int_slider = widgets.IntSlider(\n",
    "    value=5, \n",
    "    min=0, max=10, step=1, \n",
    "    description='Slider',\n",
    "    layout=Layout(width='90%')\n",
    ")\n",
    "\n",
    "int_range_slider = widgets.IntRangeSlider(\n",
    "    value=(20, 40), \n",
    "    min=0,\n",
    "    max=100,\n",
    "    step=2, \n",
    "    description='Range Slider',\n",
    "    layout=Layout(width='90%')\n",
    ")\n",
    "\n",
    "dropdown = widgets.Dropdown(\n",
    "    value='Feb', \n",
    "    options=['Jan', 'Feb', 'Mar', 'Apr'], \n",
    "    description='Dropdown'\n",
    ")\n",
    "\n",
    "radiobuttons = widgets.RadioButtons(\n",
    "    value='Feb', \n",
    "    options=['Jan', 'Feb', 'Mar', 'Apr'], \n",
    "    description='Radio Buttons'\n",
    ")\n",
    "\n",
    "combobox = widgets.Combobox(\n",
    "    placeholder='start typing... (e.g. L or o)',\n",
    "    options=['Amsterdam', 'Athens', 'Lisbon', 'London', 'Ljubljana'], \n",
    "    description='Combo Box'\n",
    ")\n",
    "\n",
    "checkbox = widgets.Checkbox(\n",
    "    description='Checkbox',\n",
    "    value=True\n",
    ")\n",
    " \n",
    " \n",
    "# VBox container to pack widgets vertically\n",
    "#\n",
    "widgets.VBox([\n",
    "    int_slider, \n",
    "    int_range_slider, \n",
    "    dropdown, \n",
    "    radiobuttons,\n",
    "    checkbox,\n",
    "    combobox,\n",
    "])"
   ]
  },
  {
   "cell_type": "markdown",
   "metadata": {},
   "source": [
    "### Connected sliders"
   ]
  },
  {
   "cell_type": "code",
   "execution_count": 152,
   "metadata": {},
   "outputs": [
    {
     "data": {
      "application/vnd.jupyter.widget-view+json": {
       "model_id": "abee0133a85d4092a499a474748ed096",
       "version_major": 2,
       "version_minor": 0
      },
      "text/plain": [
       "VBox(children=(IntSlider(value=5, description='Slider 1', layout=Layout(width='90%'), max=10), IntSlider(value…"
      ]
     },
     "metadata": {},
     "output_type": "display_data"
    }
   ],
   "source": [
    "sl1 = widgets.IntSlider(\n",
    "    description='Slider 1',\n",
    "    min=0,\n",
    "    max=10,\n",
    "    layout=Layout(width='90%')\n",
    ")\n",
    "sl2 = widgets.IntSlider(\n",
    "    description='Slider 2',\n",
    "    min=0,\n",
    "    max=10,\n",
    "    layout=Layout(width='90%')\n",
    ")\n",
    "link = widgets.link(\n",
    "    (sl1, 'value'), \n",
    "    (sl2, 'min')\n",
    ")\n",
    "\n",
    "sl1.value = 5\n",
    "widgets.VBox([\n",
    "    sl1, sl2\n",
    "])"
   ]
  }
 ],
 "metadata": {
  "kernelspec": {
   "display_name": "Python 3 (ipykernel)",
   "language": "python",
   "name": "python3"
  },
  "language_info": {
   "codemirror_mode": {
    "name": "ipython",
    "version": 3
   },
   "file_extension": ".py",
   "mimetype": "text/x-python",
   "name": "python",
   "nbconvert_exporter": "python",
   "pygments_lexer": "ipython3",
   "version": "3.7.9"
  }
 },
 "nbformat": 4,
 "nbformat_minor": 4
}
